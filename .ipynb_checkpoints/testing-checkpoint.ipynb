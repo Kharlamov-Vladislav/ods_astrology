{
 "cells": [
  {
   "cell_type": "code",
   "execution_count": 107,
   "metadata": {},
   "outputs": [],
   "source": [
    "from wordcloud import WordCloud\n",
    "from nltk.corpus import stopwords\n",
    "import matplotlib.pyplot as plt\n",
    "import nltk\n",
    "import pandas as pd\n",
    "import seaborn as sns\n",
    "import keras\n",
    "import re\n",
    "from sklearn.feature_extraction.text import TfidfVectorizer"
   ]
  },
  {
   "cell_type": "code",
   "execution_count": 108,
   "metadata": {},
   "outputs": [],
   "source": [
    "df = pd.read_csv('datasets nature/nature_computer_science.csv')"
   ]
  },
  {
   "cell_type": "code",
   "execution_count": 111,
   "metadata": {},
   "outputs": [],
   "source": [
    "def title2tokens(*vectorizers, title):\n",
    "    tokens = []\n",
    "    for vectorizer in vectorizers:\n",
    "        \n",
    "        title_tfidf = vectorizer.transform([title])\n",
    "        tokens.append([vectorizer.get_feature_names()[index] \n",
    "                             for index, tfidf in enumerate(title_tfidf.toarray()[0])\n",
    "                             if tfidf > 0])\n",
    "    \n",
    "    return tokens\n",
    "\n",
    "titles, title_tokens = df['title'], {}\n",
    "\n",
    "vectorizer_1 = TfidfVectorizer(stop_words=stopwords.words('english'), token_pattern=r'\\b[a-zA-Z]{3,}\\b',\n",
    "                                     min_df=0.0005, max_df=0.75, ngram_range=(1, 1))\n",
    "    \n",
    "vectorizer_2 = TfidfVectorizer(stop_words=stopwords.words('english'), token_pattern=r'\\b[a-zA-Z]{3,}\\b',\n",
    "                                 min_df=0.0005, max_df=0.75, ngram_range=(2, 2))\n",
    "\n",
    "vectorizer_1.fit(titles);vectorizer_2.fit(titles)\n",
    "\n",
    "for index, title in enumerate(titles):\n",
    "    tokens_1, tokens_2 = title2tokens(vectorizer_1, vectorizer_2, title=title)\n",
    "\n",
    "    title_tokens[index] = {'title' : title, 'ngram_1' : tokens_1, 'ngram_2' : tokens_2}"
   ]
  },
  {
   "cell_type": "code",
   "execution_count": 115,
   "metadata": {},
   "outputs": [],
   "source": [
    "pd.DataFrame(title_tokens).transpose().to_csv('title_tokens.csv')"
   ]
  },
  {
   "cell_type": "code",
   "execution_count": 118,
   "metadata": {},
   "outputs": [
    {
     "data": {
      "text/plain": [
       "['AxoNet: A deep learning-based tool to count retinal ganglion cell axons',\n",
       " ['based', 'cell', 'count', 'deep', 'learning', 'retinal', 'tool'],\n",
       " ['based tool', 'deep learning', 'learning based']]"
      ]
     },
     "execution_count": 118,
     "metadata": {},
     "output_type": "execute_result"
    }
   ],
   "source": [
    "pd.DataFrame(title_tokens).transpose().iloc[411].to_list()"
   ]
  },
  {
   "cell_type": "code",
   "execution_count": null,
   "metadata": {},
   "outputs": [],
   "source": []
  }
 ],
 "metadata": {
  "kernelspec": {
   "display_name": "Python 3",
   "language": "python",
   "name": "python3"
  },
  "language_info": {
   "codemirror_mode": {
    "name": "ipython",
    "version": 3
   },
   "file_extension": ".py",
   "mimetype": "text/x-python",
   "name": "python",
   "nbconvert_exporter": "python",
   "pygments_lexer": "ipython3",
   "version": "3.8.3"
  }
 },
 "nbformat": 4,
 "nbformat_minor": 4
}
